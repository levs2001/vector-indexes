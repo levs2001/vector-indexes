{
 "cells": [
  {
   "cell_type": "markdown",
   "id": "3b7b698c-3bf0-4dea-8b5f-5cdfb99e634e",
   "metadata": {},
   "source": [
    "# Эталонное сравнение"
   ]
  },
  {
   "cell_type": "code",
   "execution_count": 36,
   "id": "85100386-78c5-45bc-aaec-4bc554b4d41e",
   "metadata": {},
   "outputs": [],
   "source": [
    "import opendatasets as od\n",
    "import pandas\n",
    "import numpy as np\n",
    "import json\n",
    "from heapq import heappop, heappush,heappushpop\n",
    "import matplotlib.pyplot as plt\n",
    "\n",
    "import time\n",
    "# od.download(\n",
    "# \t\"https://www.kaggle.com/datasets/zalando-research/fashionmnist/data\")"
   ]
  },
  {
   "cell_type": "code",
   "execution_count": 40,
   "id": "5ad1ef14-459f-49da-aad2-f270adcb34e9",
   "metadata": {},
   "outputs": [],
   "source": [
    "def distance(a, b):\n",
    "    temp = a - b\n",
    "    return np.sqrt(sum(temp**2))\n",
    "\n",
    "# Fixed size priority queue (max heap) realization\n",
    "# h - reversed array, so actual answer will be -h.\n",
    "# k - size of priority queue\n",
    "def push(h, distance, index, k):\n",
    "    item = (-1 * distance, index)\n",
    "    if (len(h) < k):\n",
    "        heappush(h, item)\n",
    "    else:\n",
    "        heappushpop(h, item)\n",
    "    \n",
    "# Return k nearest vectors for given vector from ds.\n",
    "# D - array with distances, I - array with indexes.\n",
    "def get_nearest(k, vector, ds):\n",
    "    h = []\n",
    "    for i in range(len(vectors)):\n",
    "        push(h, distance(vector, ds.iloc[i]), i, k)\n",
    "    # Distances in ascending order \n",
    "    h.sort(reverse=True)\n",
    "    D = []\n",
    "    I = []\n",
    "    for i in range(len(h)):\n",
    "    # Reverse distance value to make it normal (it was reversed in push for max heap realization)\n",
    "        D.append(-h[i][0])\n",
    "        I.append(h[i][1])\n",
    "    return (D, I)\n",
    "\n",
    "def write_in_json(ind_to_find, D, I, k, filename):\n",
    "    to_write = {\n",
    "        \"k\": k,\n",
    "        \"ind_to_find\": ind_to_find,\n",
    "        \"distances\": D,\n",
    "        \"indexes\": I\n",
    "    }\n",
    "    with open(filename, \"w\") as outfile:\n",
    "        json.dump(to_write, outfile)\n",
    "\n",
    "def find_nearest(k, ind_to_find, vectors, exp_name):\n",
    "    print(f\"{exp_name}: k = {k}, index_to_find = {ind_to_find}\")\n",
    "    D, I = get_nearest(k, vectors.iloc[ind_to_find], vectors)\n",
    "    write_in_json(ind_to_find, D, I, k, \"experiments/\" + exp_name + '.json')"
   ]
  },
  {
   "cell_type": "code",
   "execution_count": 33,
   "id": "98f20a9a-fa22-48ae-86dd-2555f001bdf1",
   "metadata": {},
   "outputs": [],
   "source": [
    "mnist = pandas.read_csv(\"./fashionmnist/fashion-mnist_train.csv\")\n",
    "vectors = mnist.drop(columns='label')"
   ]
  },
  {
   "cell_type": "code",
   "execution_count": 15,
   "id": "dbca1d2f-5c45-4319-88af-98b636bc993b",
   "metadata": {},
   "outputs": [],
   "source": [
    "indexes = [10, 50, 100, 1000, 2000, 3000, 4000, 10000, 20000]"
   ]
  },
  {
   "cell_type": "code",
   "execution_count": 41,
   "id": "35fd51ba-8489-42a0-afba-1ea476613206",
   "metadata": {},
   "outputs": [
    {
     "name": "stdout",
     "output_type": "stream",
     "text": [
      "exp10: k = 16, index_to_find = 10\n",
      "CPU times: user 16.4 s, sys: 113 ms, total: 16.5 s\n",
      "Wall time: 16.6 s\n",
      "exp1000: k = 16, index_to_find = 1000\n",
      "CPU times: user 16.3 s, sys: 78.2 ms, total: 16.4 s\n",
      "Wall time: 16.4 s\n",
      "exp10000: k = 16, index_to_find = 10000\n",
      "CPU times: user 16.3 s, sys: 71.2 ms, total: 16.4 s\n",
      "Wall time: 16.4 s\n",
      "exp20000: k = 16, index_to_find = 20000\n",
      "CPU times: user 15.8 s, sys: 85.3 ms, total: 15.8 s\n",
      "Wall time: 15.9 s\n"
     ]
    }
   ],
   "source": [
    "k = 16\n",
    "# Мерим время вместе с записью результатов в json, \n",
    "# но время записи не существенно (поскольку сам поиск занимает больше 10 секунд)\n",
    "for ind in indexes:\n",
    "    %time find_nearest(k, ind, vectors, 'exp' + str(ind))    "
   ]
  },
  {
   "cell_type": "markdown",
   "id": "1e78995d-32c1-49f8-b22c-7c4f67a44df4",
   "metadata": {},
   "source": [
    "# Faiss"
   ]
  },
  {
   "cell_type": "code",
   "execution_count": 138,
   "id": "338c3a67-2b96-405c-a1d8-8e5cd28ab1c3",
   "metadata": {},
   "outputs": [],
   "source": [
    "# https://faiss.ai/index.html\n",
    "# conda install -c conda-forge faiss-cpu\n",
    "# https://github.com/facebookresearch/faiss/wiki/Faiss-indexes - типы индексов "
   ]
  },
  {
   "cell_type": "code",
   "execution_count": 25,
   "id": "1262137b-d0b0-4738-9de5-3178a1e3dd17",
   "metadata": {},
   "outputs": [],
   "source": [
    "def compare_with_ideal(I_ideal, indexes_to_find, index, k):\n",
    "    D, I = index.search(vectors.iloc[indexes_to_find], k)\n",
    "    # Посчитаем точность\n",
    "    sum_accuracy = 0\n",
    "    for i in range(len(indexes)):\n",
    "        matched = set(I_ideal[i]).intersection(set(I[i]))\n",
    "        accuracy = len(matched) / k\n",
    "        print(f'find nearest with {indexes_to_find[i]}, accuracy: {len(matched) / k}')\n",
    "        sum_accuracy += accuracy\n",
    "    avg_accuracy = sum_accuracy / len(indexes)\n",
    "    print(f'avg accuracy: {sum_accuracy / len(indexes)}')\n",
    "\n",
    "    return avg_accuracy"
   ]
  },
  {
   "cell_type": "code",
   "execution_count": 17,
   "id": "d95f598e-4b93-4277-9658-cb5f2e5af846",
   "metadata": {},
   "outputs": [
    {
     "name": "stdout",
     "output_type": "stream",
     "text": [
      "True\n",
      "60000\n"
     ]
    }
   ],
   "source": [
    "import numpy as np\n",
    "import faiss                  # make faiss available\n",
    "\n",
    "mnist = pandas.read_csv(\"./fashionmnist/fashion-mnist_train.csv\")\n",
    "vectors = mnist.drop(columns='label')\n",
    "d = vectors.shape[1]\n",
    "k = 16\n",
    "\n",
    "index_basic = faiss.IndexFlatL2(d)   # build the index\n",
    "print(index_basic.is_trained)\n",
    "index_basic.add(vectors)\n",
    "print(index_basic.ntotal)\n"
   ]
  },
  {
   "cell_type": "code",
   "execution_count": 18,
   "id": "2faa86dc-6d12-4435-ab63-ca470d9bca34",
   "metadata": {},
   "outputs": [
    {
     "name": "stdout",
     "output_type": "stream",
     "text": [
      "indexes for which we find neighbors: [10, 50, 100, 1000, 2000, 3000, 4000, 10000, 20000]\n",
      "CPU times: user 128 ms, sys: 2.91 ms, total: 131 ms\n",
      "Wall time: 15.4 ms\n"
     ]
    }
   ],
   "source": [
    "print(f'indexes for which we find neighbors: {indexes}')\n",
    "%time D_ideal, I_ideal = index_basic.search(vectors.iloc[indexes], k)"
   ]
  },
  {
   "cell_type": "markdown",
   "id": "5680a383-eac0-47b6-94dc-a807ae9cda31",
   "metadata": {},
   "source": [
    "#Inverted file index\n",
    "Разбиение на кластеры и пересчет внутри кластера."
   ]
  },
  {
   "cell_type": "code",
   "execution_count": 19,
   "id": "f75a88cb-52c3-4fba-b02c-8f0f561c12ea",
   "metadata": {},
   "outputs": [],
   "source": [
    "def create_ivf_index(clusters_count, d, vectors):\n",
    "    quantiser = faiss.IndexFlatL2(d)\n",
    "    index_ivf = faiss.IndexIVFFlat(quantiser, d, clusters_count)\n",
    "    index_ivf.train(vectors) \n",
    "    index_ivf.add(vectors)\n",
    "    return index_ivf"
   ]
  },
  {
   "cell_type": "code",
   "execution_count": 39,
   "id": "a3f45298-4c1b-4b33-9a4b-eeb12af3e937",
   "metadata": {},
   "outputs": [
    {
     "name": "stdout",
     "output_type": "stream",
     "text": [
      "ivf with clusters count 5\n",
      "find nearest with 10, accuracy: 1.0\n",
      "find nearest with 50, accuracy: 1.0\n",
      "find nearest with 100, accuracy: 1.0\n",
      "find nearest with 1000, accuracy: 1.0\n",
      "find nearest with 2000, accuracy: 0.625\n",
      "find nearest with 3000, accuracy: 1.0\n",
      "find nearest with 4000, accuracy: 1.0\n",
      "find nearest with 10000, accuracy: 0.875\n",
      "find nearest with 20000, accuracy: 1.0\n",
      "avg accuracy: 0.9444444444444444\n",
      "\n",
      "ivf with clusters count 10\n",
      "find nearest with 10, accuracy: 1.0\n",
      "find nearest with 50, accuracy: 0.875\n",
      "find nearest with 100, accuracy: 1.0\n",
      "find nearest with 1000, accuracy: 0.375\n",
      "find nearest with 2000, accuracy: 1.0\n",
      "find nearest with 3000, accuracy: 1.0\n",
      "find nearest with 4000, accuracy: 1.0\n",
      "find nearest with 10000, accuracy: 0.875\n",
      "find nearest with 20000, accuracy: 1.0\n",
      "avg accuracy: 0.9027777777777778\n",
      "\n",
      "ivf with clusters count 50\n",
      "find nearest with 10, accuracy: 1.0\n",
      "find nearest with 50, accuracy: 0.4375\n",
      "find nearest with 100, accuracy: 0.75\n",
      "find nearest with 1000, accuracy: 0.1875\n",
      "find nearest with 2000, accuracy: 1.0\n",
      "find nearest with 3000, accuracy: 0.875\n",
      "find nearest with 4000, accuracy: 0.875\n",
      "find nearest with 10000, accuracy: 0.4375\n",
      "find nearest with 20000, accuracy: 0.625\n",
      "avg accuracy: 0.6875\n",
      "\n",
      "ivf with clusters count 100\n",
      "find nearest with 10, accuracy: 1.0\n",
      "find nearest with 50, accuracy: 0.6875\n",
      "find nearest with 100, accuracy: 0.5625\n",
      "find nearest with 1000, accuracy: 0.8125\n",
      "find nearest with 2000, accuracy: 1.0\n",
      "find nearest with 3000, accuracy: 0.625\n",
      "find nearest with 4000, accuracy: 0.3125\n",
      "find nearest with 10000, accuracy: 0.6875\n",
      "find nearest with 20000, accuracy: 0.875\n",
      "avg accuracy: 0.7291666666666666\n",
      "\n",
      "ivf with clusters count 200\n",
      "find nearest with 10, accuracy: 0.9375\n",
      "find nearest with 50, accuracy: 0.6875\n",
      "find nearest with 100, accuracy: 0.3125\n",
      "find nearest with 1000, accuracy: 1.0\n",
      "find nearest with 2000, accuracy: 0.8125\n",
      "find nearest with 3000, accuracy: 0.5\n",
      "find nearest with 4000, accuracy: 0.75\n",
      "find nearest with 10000, accuracy: 0.9375\n",
      "find nearest with 20000, accuracy: 0.6875\n",
      "avg accuracy: 0.7361111111111112\n",
      "\n",
      "ivf with clusters count 350\n",
      "find nearest with 10, accuracy: 0.625\n",
      "find nearest with 50, accuracy: 0.25\n",
      "find nearest with 100, accuracy: 0.8125\n",
      "find nearest with 1000, accuracy: 0.9375\n",
      "find nearest with 2000, accuracy: 1.0\n",
      "find nearest with 3000, accuracy: 0.5625\n",
      "find nearest with 4000, accuracy: 0.9375\n",
      "find nearest with 10000, accuracy: 0.4375\n",
      "find nearest with 20000, accuracy: 0.6875\n",
      "avg accuracy: 0.6944444444444444\n",
      "\n",
      "ivf with clusters count 500\n",
      "find nearest with 10, accuracy: 0.6875\n",
      "find nearest with 50, accuracy: 0.5\n",
      "find nearest with 100, accuracy: 0.875\n",
      "find nearest with 1000, accuracy: 0.3125\n",
      "find nearest with 2000, accuracy: 0.9375\n",
      "find nearest with 3000, accuracy: 0.0625\n",
      "find nearest with 4000, accuracy: 0.75\n",
      "find nearest with 10000, accuracy: 0.4375\n",
      "find nearest with 20000, accuracy: 0.6875\n",
      "avg accuracy: 0.5833333333333334\n",
      "\n",
      "ivf with clusters count 1000\n",
      "find nearest with 10, accuracy: 0.9375\n",
      "find nearest with 50, accuracy: 0.375\n",
      "find nearest with 100, accuracy: 0.5625\n",
      "find nearest with 1000, accuracy: 0.8125\n",
      "find nearest with 2000, accuracy: 0.8125\n",
      "find nearest with 3000, accuracy: 0.25\n",
      "find nearest with 4000, accuracy: 0.25\n",
      "find nearest with 10000, accuracy: 0.5625\n",
      "find nearest with 20000, accuracy: 0.625\n",
      "avg accuracy: 0.5763888888888888\n",
      "\n",
      "ivf with clusters count 2000\n"
     ]
    },
    {
     "name": "stderr",
     "output_type": "stream",
     "text": [
      "WARNING clustering 60000 points to 2000 centroids: please provide at least 78000 training points\n"
     ]
    },
    {
     "name": "stdout",
     "output_type": "stream",
     "text": [
      "find nearest with 10, accuracy: 0.75\n",
      "find nearest with 50, accuracy: 0.25\n",
      "find nearest with 100, accuracy: 0.4375\n",
      "find nearest with 1000, accuracy: 0.8125\n",
      "find nearest with 2000, accuracy: 0.9375\n",
      "find nearest with 3000, accuracy: 0.5\n",
      "find nearest with 4000, accuracy: 0.25\n",
      "find nearest with 10000, accuracy: 0.3125\n",
      "find nearest with 20000, accuracy: 0.4375\n",
      "avg accuracy: 0.5208333333333334\n",
      "\n"
     ]
    }
   ],
   "source": [
    "clusters_n_arr = [5, 10, 50, 100, 200, 350, 500, 1000, 2000]\n",
    "accuracy_arr = []\n",
    "times_ms = [] \n",
    "for clusters_count in clusters_n_arr:\n",
    "    print(f'ivf with clusters count {clusters_count}')\n",
    "    ivf = create_ivf_index(clusters_count, d, vectors)\n",
    "    start = time.perf_counter_ns()\n",
    "    accur = compare_with_ideal(I_ideal, indexes, ivf, k)\n",
    "    times_ms.append((time.perf_counter_ns() - start) / 1e6)\n",
    "    accuracy_arr.append(accur)\n",
    "    print()\n",
    "\n"
   ]
  },
  {
   "cell_type": "code",
   "execution_count": 40,
   "id": "3fbb2c9d-b586-4fea-9fed-aa5fca5f5218",
   "metadata": {},
   "outputs": [
    {
     "data": {
      "image/png": "[encoded data removed]",
      "text/plain": [
       "<Figure size 640x480 with 1 Axes>"
      ]
     },
     "metadata": {},
     "output_type": "display_data"
    }
   ],
   "source": [
    "plt.plot(clusters_n_arr, accuracy_arr)\n",
    "plt.xlabel('clusters count')\n",
    "plt.ylabel('accuracy')\n",
    "plt.title('Accuracy')\n",
    " \n",
    "# function to show the plot\n",
    "plt.show()"
   ]
  },
  {
   "cell_type": "code",
   "execution_count": null,
   "id": "748822f6-a452-48fe-8a16-809e21fb2c9a",
   "metadata": {},
   "outputs": [],
   "source": [
    "plt.plot(clusters_n_arr, accuracy_arr)\n",
    "plt.xlabel('clusters count')\n",
    "plt.ylabel('accuracy')\n",
    "plt.title('Accuracy')\n",
    " \n",
    "# function to show the plot\n",
    "plt.show()"
   ]
  }
 ],
 "metadata": {
  "kernelspec": {
   "display_name": "Python 3 (ipykernel)",
   "language": "python",
   "name": "python3"
  },
  "language_info": {
   "codemirror_mode": {
    "name": "ipython",
    "version": 3
   },
   "file_extension": ".py",
   "mimetype": "text/x-python",
   "name": "python",
   "nbconvert_exporter": "python",
   "pygments_lexer": "ipython3",
   "version": "3.9.18"
  }
 },
 "nbformat": 4,
 "nbformat_minor": 5
}
